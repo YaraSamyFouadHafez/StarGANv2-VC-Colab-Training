{
 "cells": [
  {
   "cell_type": "markdown",
   "id": "3f204def",
   "metadata": {},
   "source": [
    "# 🎙️ Prepare Your Training Data for StarGANv2-VC\n",
    "\n",
    "## This notebook helps you prepare your voice data for training!\n",
    "\n",
    "### 📋 What You Need:\n",
    "1. **Your voice recording** (WAV file)\n",
    "   - Minimum: 30 minutes\n",
    "   - Recommended: 1-2 hours\n",
    "   - Any sample rate (will be converted to 24kHz)\n",
    "\n",
    "### 🎯 What This Notebook Does:\n",
    "1. Uploads your voice recording\n",
    "2. Converts to 24kHz mono\n",
    "3. Splits into 5-second segments\n",
    "4. Creates train/validation split\n",
    "5. Generates `MyVoice.zip` for Colab training\n",
    "\n",
    "### ⏱️ Processing Time:\n",
    "- ~5-10 minutes for 1 hour of audio\n",
    "\n",
    "---"
   ]
  },
  {
   "cell_type": "markdown",
   "id": "3a080fa7",
   "metadata": {},
   "source": [
    "## 1️⃣ Install Dependencies"
   ]
  },
  {
   "cell_type": "code",
   "execution_count": null,
   "id": "1061921b",
   "metadata": {},
   "outputs": [],
   "source": [
    "!pip install -q librosa soundfile tqdm\n",
    "print(\"✅ Dependencies installed!\")"
   ]
  },
  {
   "cell_type": "markdown",
   "id": "ade698bf",
   "metadata": {},
   "source": [
    "## 2️⃣ Upload Your Voice Recording"
   ]
  },
  {
   "cell_type": "code",
   "execution_count": null,
   "id": "af6d28d1",
   "metadata": {},
   "outputs": [],
   "source": [
    "from google.colab import files\n",
    "import os\n",
    "\n",
    "print(\"📤 Please upload your voice recording (WAV file)...\")\n",
    "print(\"   Recommended: 30-120 minutes of diverse speech\\n\")\n",
    "\n",
    "uploaded = files.upload()\n",
    "\n",
    "# Get the uploaded filename\n",
    "audio_file = list(uploaded.keys())[0]\n",
    "print(f\"\\n✅ Uploaded: {audio_file}\")\n",
    "print(f\"   Size: {os.path.getsize(audio_file) / 1024**2:.2f} MB\")"
   ]
  },
  {
   "cell_type": "markdown",
   "id": "95d7d53c",
   "metadata": {},
   "source": [
    "## 3️⃣ Analyze Your Audio"
   ]
  },
  {
   "cell_type": "code",
   "execution_count": null,
   "id": "504ffc19",
   "metadata": {},
   "outputs": [],
   "source": [
    "import librosa\n",
    "import numpy as np\n",
    "\n",
    "print(\"🔍 Analyzing audio file...\\n\")\n",
    "\n",
    "# Load audio\n",
    "audio, sr = librosa.load(audio_file, sr=None, mono=False)\n",
    "\n",
    "# Get info\n",
    "duration = librosa.get_duration(y=audio, sr=sr)\n",
    "channels = 1 if audio.ndim == 1 else audio.shape[0]\n",
    "\n",
    "print(f\"📊 Audio Information:\")\n",
    "print(f\"   Sample Rate: {sr} Hz\")\n",
    "print(f\"   Channels: {channels} ({'Mono' if channels == 1 else 'Stereo'})\")\n",
    "print(f\"   Duration: {duration/60:.2f} minutes ({duration:.2f} seconds)\")\n",
    "print(f\"   Size: {os.path.getsize(audio_file) / 1024**2:.2f} MB\")\n",
    "\n",
    "# Calculate expected segments\n",
    "segment_duration = 5.0  # seconds\n",
    "expected_segments = int(duration / segment_duration)\n",
    "\n",
    "print(f\"\\n✅ Expected output: ~{expected_segments} segments\")\n",
    "\n",
    "if duration < 1800:  # 30 minutes\n",
    "    print(\"\\n⚠️  Warning: Less than 30 minutes of audio\")\n",
    "    print(\"   Recommendation: Record more for better quality!\")\n",
    "elif duration > 7200:  # 2 hours\n",
    "    print(\"\\n✅ Excellent! More than 2 hours of data!\")\n",
    "else:\n",
    "    print(\"\\n✅ Good amount of data!\")"
   ]
  },
  {
   "cell_type": "markdown",
   "id": "00e1de09",
   "metadata": {},
   "source": [
    "## 4️⃣ Process Audio Data"
   ]
  },
  {
   "cell_type": "code",
   "execution_count": null,
   "id": "172d3a2d",
   "metadata": {},
   "outputs": [],
   "source": [
    "import librosa\n",
    "import soundfile as sf\n",
    "import numpy as np\n",
    "from tqdm import tqdm\n",
    "import os\n",
    "\n",
    "# Create output directory\n",
    "output_dir = \"Data/MyVoice\"\n",
    "os.makedirs(output_dir, exist_ok=True)\n",
    "\n",
    "print(\"🎵 Processing audio...\\n\")\n",
    "\n",
    "# Load and convert to 24kHz mono\n",
    "print(\"1️⃣ Loading and converting to 24kHz mono...\")\n",
    "audio, _ = librosa.load(audio_file, sr=24000, mono=True)\n",
    "print(f\"   ✅ Loaded {len(audio)/24000:.2f} seconds of audio\\n\")\n",
    "\n",
    "# Normalize\n",
    "print(\"2️⃣ Normalizing audio...\")\n",
    "audio = audio / np.max(np.abs(audio)) * 0.95\n",
    "print(\"   ✅ Normalized\\n\")\n",
    "\n",
    "# Split into 5-second segments\n",
    "print(\"3️⃣ Splitting into 5-second segments...\")\n",
    "segment_length = 24000 * 5  # 5 seconds at 24kHz\n",
    "segments = []\n",
    "\n",
    "for i in range(0, len(audio) - segment_length, segment_length):\n",
    "    segment = audio[i:i+segment_length]\n",
    "    if len(segment) == segment_length:  # Only keep full segments\n",
    "        segments.append(segment)\n",
    "\n",
    "print(f\"   ✅ Created {len(segments)} segments\\n\")\n",
    "\n",
    "# Save segments\n",
    "print(\"4️⃣ Saving segments...\")\n",
    "for idx, segment in enumerate(tqdm(segments, desc=\"Saving\")):\n",
    "    filename = f\"speaker0_seg{idx:04d}.wav\"\n",
    "    filepath = os.path.join(output_dir, filename)\n",
    "    sf.write(filepath, segment, 24000)\n",
    "\n",
    "print(f\"\\n✅ Saved {len(segments)} WAV files\\n\")\n",
    "\n",
    "# Create train/val split (90/10)\n",
    "print(\"5️⃣ Creating train/validation split...\")\n",
    "np.random.seed(42)\n",
    "indices = np.random.permutation(len(segments))\n",
    "split_point = int(len(segments) * 0.9)\n",
    "\n",
    "train_indices = indices[:split_point]\n",
    "val_indices = indices[split_point:]\n",
    "\n",
    "# Write train list\n",
    "with open(os.path.join(output_dir, 'train_list.txt'), 'w') as f:\n",
    "    for idx in sorted(train_indices):\n",
    "        f.write(f\"Data/MyVoice/speaker0_seg{idx:04d}.wav|0\\n\")\n",
    "\n",
    "# Write val list\n",
    "with open(os.path.join(output_dir, 'val_list.txt'), 'w') as f:\n",
    "    for idx in sorted(val_indices):\n",
    "        f.write(f\"Data/MyVoice/speaker0_seg{idx:04d}.wav|0\\n\")\n",
    "\n",
    "print(f\"   ✅ Training samples: {len(train_indices)}\")\n",
    "print(f\"   ✅ Validation samples: {len(val_indices)}\")\n",
    "print(f\"\\n🎉 Data preparation complete!\")"
   ]
  },
  {
   "cell_type": "markdown",
   "id": "a1e18193",
   "metadata": {},
   "source": [
    "## 5️⃣ Create ZIP File for Upload"
   ]
  },
  {
   "cell_type": "code",
   "execution_count": null,
   "id": "0c7127dc",
   "metadata": {},
   "outputs": [],
   "source": [
    "import zipfile\n",
    "import os\n",
    "\n",
    "print(\"📦 Creating ZIP file for Colab upload...\\n\")\n",
    "\n",
    "zip_filename = 'MyVoice.zip'\n",
    "\n",
    "with zipfile.ZipFile(zip_filename, 'w', zipfile.ZIP_DEFLATED) as zipf:\n",
    "    # Add all files from Data/MyVoice\n",
    "    for root, dirs, files in os.walk('Data/MyVoice'):\n",
    "        for file in files:\n",
    "            file_path = os.path.join(root, file)\n",
    "            arcname = os.path.relpath(file_path, 'Data')\n",
    "            zipf.write(file_path, arcname)\n",
    "\n",
    "zip_size = os.path.getsize(zip_filename) / 1024**2\n",
    "\n",
    "print(f\"✅ Created: {zip_filename}\")\n",
    "print(f\"   Size: {zip_size:.2f} MB\")\n",
    "print(f\"   Contains: {len(segments)} audio segments + metadata\")\n",
    "\n",
    "print(\"\\n📊 Summary:\")\n",
    "print(f\"   Total segments: {len(segments)}\")\n",
    "print(f\"   Training: {len(train_indices)}\")\n",
    "print(f\"   Validation: {len(val_indices)}\")\n",
    "print(f\"   Total duration: ~{len(segments)*5/60:.2f} minutes\")\n",
    "print(f\"   ZIP size: {zip_size:.2f} MB\")"
   ]
  },
  {
   "cell_type": "markdown",
   "id": "0db540fb",
   "metadata": {},
   "source": [
    "## 6️⃣ Download Your Prepared Data"
   ]
  },
  {
   "cell_type": "code",
   "execution_count": null,
   "id": "13267554",
   "metadata": {},
   "outputs": [],
   "source": [
    "from google.colab import files\n",
    "\n",
    "print(\"⬇️  Downloading MyVoice.zip to your computer...\\n\")\n",
    "files.download(zip_filename)\n",
    "\n",
    "print(\"\\n🎉 Success! Your data is ready for training!\")\n",
    "print(\"\\n📝 Next Steps:\")\n",
    "print(\"   1. Save the downloaded MyVoice.zip\")\n",
    "print(\"   2. Open the training notebook: Train_StarGANv2_VC.ipynb\")\n",
    "print(\"   3. Upload MyVoice.zip when prompted\")\n",
    "print(\"   4. Start training with GPU!\")\n",
    "print(\"\\n⏱️  Expected training time: ~20 hours on Colab T4 GPU\")\n",
    "print(\"🏆 Expected quality: Award-winning level!\")"
   ]
  },
  {
   "cell_type": "markdown",
   "id": "f1b41d2c",
   "metadata": {},
   "source": [
    "---\n",
    "\n",
    "## 🎊 Data Preparation Complete!\n",
    "\n",
    "### What You Have Now:\n",
    "✅ **MyVoice.zip** - Ready for Colab training  \n",
    "✅ Properly formatted audio (24kHz mono)  \n",
    "✅ Train/validation split (90/10)  \n",
    "✅ All metadata files included  \n",
    "\n",
    "### Next Steps:\n",
    "1. Go to the main repository\n",
    "2. Click \"Open in Colab\" on Train_StarGANv2_VC.ipynb\n",
    "3. Upload MyVoice.zip\n",
    "4. Train your model!\n",
    "\n",
    "### Tips for Best Quality:\n",
    "- 📊 More data = better quality (30+ minutes minimum)\n",
    "- 🎭 Diverse speech = better generalization\n",
    "- 🎤 Clean audio = better results\n",
    "- 😊 Include different emotions and speaking styles\n",
    "\n",
    "---\n",
    "\n",
    "**🚀 Ready to train your voice model! 🎤✨**"
   ]
  }
 ],
 "metadata": {
  "language_info": {
   "name": "python"
  }
 },
 "nbformat": 4,
 "nbformat_minor": 5
}
